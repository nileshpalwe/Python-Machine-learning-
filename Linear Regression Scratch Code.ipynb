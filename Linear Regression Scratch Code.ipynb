{
 "cells": [
  {
   "cell_type": "code",
   "execution_count": 1,
   "metadata": {},
   "outputs": [],
   "source": [
    "class LinearRegression(object):\n",
    "    \"\"\" Linear regression predictor for 2D data \"\"\"\n",
    "    \n",
    "    def __init__(self,x_train,y_train):\n",
    "        \"\"\" Inputs the training data: (x_train = predictor, y_train = predictions for x_train)\"\"\"\n",
    "        self.x_train = x_train\n",
    "        self.y_train = y_train\n",
    "         \n",
    "    def fit(self,params,iterations,alpha):\n",
    "        \"\"\" Fits linear model for given x_train and y_train using gradient descent technique of \n",
    "            optimization and returns the value of parameters/ weights.\n",
    "            (params = initial guess of parameters, iterations = number of iterations to \n",
    "            be performed for optimization, alpha = step size)\"\"\"\n",
    "        \n",
    "        i=0\n",
    "        \n",
    "        # Gradient descent optimization loop\n",
    "        while i < iterations:\n",
    "            hyp = params[0]+params[1]*self.x_train #hypothesis function\n",
    "            gradient = sum((-2)*(self.y_train-hyp)),sum((-2)*(self.y_train-hyp)*self.x_train)\n",
    "            step_size = gradient[0]*alpha,gradient[1]*alpha\n",
    "            params = params[0]-step_size[0],params[1]-step_size[1] #new parameters\n",
    "            i += 1\n",
    "            \n",
    "            if i < 6 or i > iterations - 5:\n",
    "            #Printing the values for first and last 5 iterations so that decision can be made on iterations and alpha:\n",
    "                print('___________________________________')\n",
    "                print('Iteration: {}'.format(i))\n",
    "                print('Cost: {}'.format(sum((self.y_train-hyp)**2)))\n",
    "                print (\"Parameters: {}\".format(params))\n",
    "            \n",
    "        return params\n",
    "    \n",
    "    def predict(self, x_test):\n",
    "        \"\"\" Makes predictions for new data x_test using the trained model\"\"\"\n",
    "        return params[0]+params[1]*x_test"
   ]
  },
  {
   "cell_type": "code",
   "execution_count": 2,
   "metadata": {},
   "outputs": [],
   "source": [
    "# Importing libraries\n",
    "import numpy as np\n",
    "import matplotlib.pyplot as plt\n",
    "%matplotlib inline"
   ]
  },
  {
   "cell_type": "code",
   "execution_count": 3,
   "metadata": {},
   "outputs": [],
   "source": [
    "# Input training data\n",
    "x_train = np.array([1,2,3,4,5,6]) \n",
    "y_train = np.array([2.1,3.5,4.2,4.8,5.6,5.8]) \n",
    "mod = LinearRegression(x_train=x_train,y_train=y_train)"
   ]
  },
  {
   "cell_type": "code",
   "execution_count": 4,
   "metadata": {},
   "outputs": [
    {
     "data": {
      "text/plain": [
       "<matplotlib.collections.PathCollection at 0x2c33f49ddc0>"
      ]
     },
     "execution_count": 4,
     "metadata": {},
     "output_type": "execute_result"
    },
    {
     "data": {
      "image/png": "[encoded data removed]",
      "text/plain": [
       "<Figure size 432x288 with 1 Axes>"
      ]
     },
     "metadata": {
      "needs_background": "light"
     },
     "output_type": "display_data"
    }
   ],
   "source": [
    "\n",
    "# Ploting training data\n",
    "plt.scatter(x_train,y_train)"
   ]
  },
  {
   "cell_type": "code",
   "execution_count": 8,
   "metadata": {},
   "outputs": [
    {
     "name": "stdout",
     "output_type": "stream",
     "text": [
      "___________________________________\n",
      "Iteration: 1\n",
      "Cost: 102.50999999999999\n",
      "Parameters: (0.4779999999999999, 1.992)\n",
      "___________________________________\n",
      "Iteration: 2\n",
      "Cost: 86.79932\n",
      "Parameters: (0.10399999999999993, 0.2398)\n",
      "___________________________________\n",
      "Iteration: 3\n",
      "Cost: 73.54269004\n",
      "Parameters: (0.510804, 1.8336839999999999)\n",
      "___________________________________\n",
      "Iteration: 4\n",
      "Cost: 62.355213958704\n",
      "Parameters: (0.19936024000000002, 0.35584144000000006)\n",
      "___________________________________\n",
      "Iteration: 5\n",
      "Cost: 52.91243142906754\n",
      "Parameters: (0.5459836063999999, 1.6984787183999999)\n",
      "___________________________________\n",
      "Iteration: 496\n",
      "Cost: 0.45676190561434815\n",
      "Parameters: (1.7933067561818432, 0.7257204935907701)\n",
      "___________________________________\n",
      "Iteration: 497\n",
      "Cost: 0.4567619055774254\n",
      "Parameters: (1.7933073381318987, 0.7257203576591944)\n",
      "___________________________________\n",
      "Iteration: 498\n",
      "Cost: 0.4567619055421023\n",
      "Parameters: (1.793307907339209, 0.725720224704063)\n",
      "___________________________________\n",
      "Iteration: 499\n",
      "Cost: 0.4567619055083084\n",
      "Parameters: (1.7933084640827974, 0.7257200946602005)\n",
      "___________________________________\n",
      "Iteration: 500\n",
      "Cost: 0.4567619054759795\n",
      "Parameters: (1.7933090086355774, 0.7257199674638606)\n"
     ]
    }
   ],
   "source": [
    "# Fitting the linear model\n",
    "params = mod.fit(params = np.array([0,0.1]),iterations = 500,alpha = 0.01)"
   ]
  },
  {
   "cell_type": "code",
   "execution_count": 9,
   "metadata": {},
   "outputs": [
    {
     "data": {
      "text/plain": [
       "<matplotlib.collections.PathCollection at 0x2c33f603dc0>"
      ]
     },
     "execution_count": 9,
     "metadata": {},
     "output_type": "execute_result"
    },
    {
     "data": {
      "image/png": "[encoded data removed]",
      "text/plain": [
       "<Figure size 432x288 with 1 Axes>"
      ]
     },
     "metadata": {
      "needs_background": "light"
     },
     "output_type": "display_data"
    }
   ],
   "source": [
    "# plot the model:\n",
    "x1 = np.arange(0,10,0.01)\n",
    "y1 = params[0]+params[1]*x1\n",
    "plt.plot(x1,y1)\n",
    "plt.scatter(x_train,y_train)"
   ]
  },
  {
   "cell_type": "code",
   "execution_count": 10,
   "metadata": {},
   "outputs": [
    {
     "data": {
      "text/plain": [
       "array([5.42190885, 6.14762881, 6.87334878, 7.59906875, 8.32478872,\n",
       "       9.05050868])"
      ]
     },
     "execution_count": 10,
     "metadata": {},
     "output_type": "execute_result"
    }
   ],
   "source": [
    "# Making predictions on new data:\n",
    "x_test = np.array([5,6,7,8,9,10])\n",
    "y_pred = mod.predict(x_test)\n",
    "y_pred"
   ]
  },
  {
   "cell_type": "code",
   "execution_count": null,
   "metadata": {},
   "outputs": [],
   "source": []
  }
 ],
 "metadata": {
  "kernelspec": {
   "display_name": "Python 3",
   "language": "python",
   "name": "python3"
  },
  "language_info": {
   "codemirror_mode": {
    "name": "ipython",
    "version": 3
   },
   "file_extension": ".py",
   "mimetype": "text/x-python",
   "name": "python",
   "nbconvert_exporter": "python",
   "pygments_lexer": "ipython3",
   "version": "3.8.5"
  }
 },
 "nbformat": 4,
 "nbformat_minor": 4
}
